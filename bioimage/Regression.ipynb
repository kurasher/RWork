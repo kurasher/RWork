{
 "cells": [
  {
   "cell_type": "code",
   "execution_count": 1,
   "metadata": {},
   "outputs": [
    {
     "name": "stdin",
     "output_type": "stream",
     "text": [
      "何次の多項式で求めますか?(数値を入力)： 3\n"
     ]
    },
    {
     "data": {
      "image/png": "[encoded data removed]",
      "text/plain": [
       "plot without title"
      ]
     },
     "metadata": {},
     "output_type": "display_data"
    }
   ],
   "source": [
    "# source('~/R/my_function.R', echo=TRUE)\n",
    "# clearAll()\n",
    "#コメントの付け方 ctrl+SHIFT+c\n",
    "\n",
    "m = readline(\"何次の多項式で求めますか?(数値を入力)：\")\n",
    "m = as.integer(m)#次数\n",
    "training = read.table(\"training.txt\")\n",
    "test = read.table(\"evaluation.txt\")\n",
    "x_test = test$V1#評価データのxの値\n",
    "y_test = test$V2#評価データのyの値\n",
    "\n",
    "x = training$V1#訓練データのxの値\n",
    "y = training$V2#訓練データのyの値\n",
    "plot(x, y, xlim = c(0,1.2), ylim = c(-2, 2), \n",
    "     xlab = \"x\", ylab = \"y\", col = \"black\", pch = 16, lwd = 2)\n",
    "X = matrix(nrow = length(x), ncol = m)\n",
    "\n",
    "for(i in 1:m){\n",
    "    X[, i] = x^(i-1)\n",
    "}\n",
    "\n",
    "beta_hat = solve((t(X) %*% X)) %*% t(X) %*% y\n",
    "\n",
    "\n",
    "f = function(x){\n",
    "    ans = 0\n",
    "    for(i in 1:m){\n",
    "        ans = ans + beta_hat[i, 1] * x^(i-1)   \n",
    "    }\n",
    "    return(ans)\n",
    "}\n",
    "\n",
    "y_hat = c()\n",
    "new_x = seq(0, 1.2, length.out = 1000)\n",
    "for(i in 1:length(new_x)){\n",
    "    y_hat[i] = f(new_x[i])\n",
    "}\n",
    "\n",
    "par(new = TRUE)\n",
    "plot(new_x, y_hat,  xlim = c(0,1.2), ylim = c(-2, 2),\n",
    "     xlab = \"x\", ylab = \"y\", col = \"red\", pch = 16, lwd = 2)\n",
    "\n",
    "par(new = TRUE)\n",
    "plot(x_test, y_test,  xlim = c(0,1.2), ylim = c(-2, 2),\n",
    "     xlab = \"x\", ylab = \"y\", col = \"blue\", pch = 16, lwd = 2)\n",
    "\n",
    "\n",
    "legend(\"bottomleft\", lty = c(NA, NA, 1),\n",
    "       c(\"訓練データ\", '評価データ','推定した関数'),\n",
    "       pch = c(16, 16, NA),\n",
    "       col = c(\"black\", \"blue\", \"red\"), lwd = 2, cex = 1.0) \n"
   ]
  }
 ],
 "metadata": {
  "kernelspec": {
   "display_name": "R",
   "language": "R",
   "name": "ir"
  },
  "language_info": {
   "codemirror_mode": "r",
   "file_extension": ".r",
   "mimetype": "text/x-r-source",
   "name": "R",
   "pygments_lexer": "r",
   "version": "3.6.1"
  }
 },
 "nbformat": 4,
 "nbformat_minor": 4
}
