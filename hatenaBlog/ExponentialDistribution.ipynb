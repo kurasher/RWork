{
 "cells": [
  {
   "cell_type": "code",
   "execution_count": 3,
   "metadata": {},
   "outputs": [
    {
     "data": {
      "text/html": [
       "<strong>png:</strong> 2"
      ],
      "text/latex": [
       "\\textbf{png:} 2"
      ],
      "text/markdown": [
       "**png:** 2"
      ],
      "text/plain": [
       "png \n",
       "  2 "
      ]
     },
     "metadata": {},
     "output_type": "display_data"
    }
   ],
   "source": [
    "# 正規分布をplot\n",
    "png(\"ExponentialDistribution.png\")  # 描画デバイスを開く\n",
    "curve(dexp(x, 1.0), from = 0, to = 10, , col=\"blue\", lwd = 3)\n",
    "dev.off()"
   ]
  },
  {
   "cell_type": "code",
   "execution_count": 34,
   "metadata": {},
   "outputs": [
    {
     "data": {
      "text/html": [
       "<strong>png:</strong> 2"
      ],
      "text/latex": [
       "\\textbf{png:} 2"
      ],
      "text/markdown": [
       "**png:** 2"
      ],
      "text/plain": [
       "png \n",
       "  2 "
      ]
     },
     "metadata": {},
     "output_type": "display_data"
    }
   ],
   "source": [
    "# 正規分布をplot\n",
    "png(\"ExponentialDistributionVer2.png\")  # 描画デバイスを開く\n",
    "curve(dexp(x, 10), from = 0, to = 1, xlim=c(0,1), ylim=c(0,10), col=\"blue\", lwd = 3)\n",
    "xvalu <- seq(0,1/12,length=200)\n",
    "dvalu <- dexp(xvalu, 10)\n",
    "polygon(c(xvalu, rev(xvalu)), c(rep(0,200), rev(dvalu)), xlim=c(0,1), ylim=c(0,10), col=\"gray80\")\n",
    "# xvalu <- seq(-2,2,length=200)\n",
    "# dvalu <- dnorm(xvalu)\n",
    "# polygon(c(xvalu, rev(xvalu)), c(rep(0,200), rev(dvalu)),col=\"gray50\")\n",
    "# xvalu <- seq(-1,1,length=200)\n",
    "# dvalu <- dnorm(xvalu)\n",
    "# polygon(c(xvalu, rev(xvalu)), c(rep(0,200), rev(dvalu)),col=\"gray20\")\n",
    "dev.off()"
   ]
  },
  {
   "cell_type": "code",
   "execution_count": null,
   "metadata": {},
   "outputs": [],
   "source": []
  }
 ],
 "metadata": {
  "kernelspec": {
   "display_name": "R",
   "language": "R",
   "name": "ir"
  },
  "language_info": {
   "codemirror_mode": "r",
   "file_extension": ".r",
   "mimetype": "text/x-r-source",
   "name": "R",
   "pygments_lexer": "r",
   "version": "3.6.1"
  }
 },
 "nbformat": 4,
 "nbformat_minor": 4
}
