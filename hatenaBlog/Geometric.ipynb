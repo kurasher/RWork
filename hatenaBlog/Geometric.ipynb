{
 "cells": [
  {
   "cell_type": "code",
   "execution_count": 2,
   "metadata": {},
   "outputs": [],
   "source": [
    "# 幾何分布の作成\n",
    "Geometric <- function(p, k){\n",
    "    P = (1-p)^(k-1) * p\n",
    "    return(P)\n",
    "}"
   ]
  },
  {
   "cell_type": "code",
   "execution_count": 9,
   "metadata": {},
   "outputs": [],
   "source": [
    "#試行回数を1~10まで\n",
    "X <- 1:10\n",
    "\n",
    "#それぞれの試行回数の計算結果を格納\n",
    "Y <- c()\n",
    "for(i in 1:10){\n",
    "   Y[i]  <- Geometric(1/6, i)   \n",
    "}"
   ]
  },
  {
   "cell_type": "code",
   "execution_count": 22,
   "metadata": {},
   "outputs": [
    {
     "data": {
      "text/html": [
       "<strong>png:</strong> 2"
      ],
      "text/latex": [
       "\\textbf{png:} 2"
      ],
      "text/markdown": [
       "**png:** 2"
      ],
      "text/plain": [
       "png \n",
       "  2 "
      ]
     },
     "metadata": {},
     "output_type": "display_data"
    }
   ],
   "source": [
    "# type = \"o\"で点付きの線を引く\n",
    "# lwdで線の太さを指定\n",
    "# tck = 1で1の幅でgridを引く\n",
    "# colはcolorのこと\n",
    "png(\"plot1.png\")  # 描画デバイスを開く\n",
    "plot(X, Y, type = \"o\", lwd = 3, tck = 1, col = \"blue\")\n",
    "dev.off()"
   ]
  },
  {
   "cell_type": "code",
   "execution_count": null,
   "metadata": {},
   "outputs": [],
   "source": []
  }
 ],
 "metadata": {
  "kernelspec": {
   "display_name": "R",
   "language": "R",
   "name": "ir"
  },
  "language_info": {
   "codemirror_mode": "r",
   "file_extension": ".r",
   "mimetype": "text/x-r-source",
   "name": "R",
   "pygments_lexer": "r",
   "version": "3.6.1"
  }
 },
 "nbformat": 4,
 "nbformat_minor": 4
}
